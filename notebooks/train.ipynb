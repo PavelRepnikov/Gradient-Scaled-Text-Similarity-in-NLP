{
 "cells": [
  {
   "cell_type": "code",
   "execution_count": 1,
   "id": "66efef56-21a7-45ee-8eb1-837eeadebe9a",
   "metadata": {},
   "outputs": [],
   "source": [
    "import pandas as pd\n",
    "from sklearn.model_selection import train_test_split\n",
    "from transformers import BertTokenizer\n",
    "import torch\n",
    "from torch.utils.data import Dataset, DataLoader\n",
    "from transformers import BertModel\n",
    "from transformers import AdamW, get_linear_schedule_with_warmup\n",
    "from tqdm import tqdm\n",
    "import matplotlib.pyplot as plt\n",
    "from sklearn.metrics import mean_squared_error, mean_absolute_error, r2_score\n",
    "from transformers import Trainer, TrainingArguments, EarlyStoppingCallback\n",
    "import numpy as np\n",
    "from transformers import BertTokenizer, BertForSequenceClassification\n",
    "from sklearn.metrics import mean_squared_error, mean_absolute_error"
   ]
  },
  {
   "cell_type": "code",
   "execution_count": 2,
   "id": "3e2e61b1-4e9c-4ef7-8053-8e8cd961d729",
   "metadata": {},
   "outputs": [],
   "source": [
    "import logging\n",
    "logging.disable(logging.WARNING)\n"
   ]
  },
  {
   "cell_type": "code",
   "execution_count": 3,
   "id": "8fbf9d62-41f6-4c57-ae11-95bd2f238a3b",
   "metadata": {},
   "outputs": [],
   "source": [
    "final_train_df = pd.read_csv('../data/final_train_df.csv')\n",
    "final_test_df = pd.read_csv('../data/final_test_df.csv')\n"
   ]
  },
  {
   "cell_type": "code",
   "execution_count": 4,
   "id": "00529aaa-776f-4f22-9039-01294b88fa81",
   "metadata": {},
   "outputs": [
    {
     "name": "stdout",
     "output_type": "stream",
     "text": [
      "Размер обучающей выборки: (89964, 3)\n",
      "Размер валидационной выборки: (9996, 3)\n",
      "Доступно GPU: 2\n"
     ]
    }
   ],
   "source": [
    "train_df, val_df = train_test_split(final_train_df, test_size=0.1, random_state=42)\n",
    "\n",
    "print(f\"Размер обучающей выборки: {train_df.shape}\")\n",
    "print(f\"Размер валидационной выборки: {val_df.shape}\")\n",
    "print(f\"Доступно GPU: {torch.cuda.device_count()}\")\n"
   ]
  },
  {
   "cell_type": "code",
   "execution_count": 5,
   "id": "fd20e1bd-62ee-47cf-90a1-4ca0b0226364",
   "metadata": {},
   "outputs": [],
   "source": [
    "class TextPairDataset(Dataset):\n",
    "    def __init__(self, df, tokenizer, max_length=128):\n",
    "        \"\"\"\n",
    "        Инициализация датасета.\n",
    "        \n",
    "        Параметры:\n",
    "        - df: pandas DataFrame с колонками 'text1', 'text2', 'score'.\n",
    "        - tokenizer: токенизатор из библиотеки Hugging Face.\n",
    "        - max_length: максимальная длина токенизированного ввода.\n",
    "        \"\"\"\n",
    "        self.texts1 = df['text1'].tolist()\n",
    "        self.texts2 = df['text2'].tolist()\n",
    "        self.scores = df['score'].tolist()\n",
    "        self.tokenizer = tokenizer\n",
    "        self.max_length = max_length\n",
    "    \n",
    "    def __len__(self):\n",
    "        return len(self.scores)\n",
    "    \n",
    "    def __getitem__(self, idx):\n",
    "        text1 = self.texts1[idx]\n",
    "        text2 = self.texts2[idx]\n",
    "        score = self.scores[idx]\n",
    "        \n",
    "        # Токенизация пары текстов\n",
    "        encoding = self.tokenizer(\n",
    "            text1,\n",
    "            text2,\n",
    "            add_special_tokens=True,\n",
    "            max_length=self.max_length,\n",
    "            padding='max_length',\n",
    "            truncation=True,\n",
    "            return_tensors='pt'\n",
    "        )\n",
    "        \n",
    "        # Возвращаем словарь с токенами и меткой\n",
    "        return {\n",
    "            'input_ids': encoding['input_ids'].squeeze(),  # Убираем лишнюю размерность\n",
    "            'attention_mask': encoding['attention_mask'].squeeze(),\n",
    "            'labels': torch.tensor(score, dtype=torch.float)\n",
    "        }"
   ]
  },
  {
   "cell_type": "code",
   "execution_count": 6,
   "id": "67e70987-21f6-4327-809f-48054fb28922",
   "metadata": {},
   "outputs": [],
   "source": [
    "# Выбор предобученной модели и токенизатора\n",
    "model_name = 'bert-base-multilingual-cased'  # Поддерживает русский язык\n",
    "tokenizer = BertTokenizer.from_pretrained(model_name)\n",
    "\n",
    "# Загрузка модели для классификации с одним выходом (регрессия)\n",
    "model = BertForSequenceClassification.from_pretrained(\n",
    "    model_name,\n",
    "    num_labels=1,  # Один выход для регрессии\n",
    "    problem_type=\"regression\"\n",
    ")"
   ]
  },
  {
   "cell_type": "code",
   "execution_count": 7,
   "id": "9d046e12-69d5-4e1e-809a-44c592dda522",
   "metadata": {},
   "outputs": [
    {
     "name": "stderr",
     "output_type": "stream",
     "text": [
      "C:\\Users\\q\\anaconda3\\envs\\pytorch_env\\Lib\\site-packages\\transformers\\training_args.py:1525: FutureWarning: `evaluation_strategy` is deprecated and will be removed in version 4.46 of 🤗 Transformers. Use `eval_strategy` instead\n",
      "  warnings.warn(\n"
     ]
    }
   ],
   "source": [
    "# Функция для вычисления метрик\n",
    "def compute_metrics(eval_pred):\n",
    "    predictions, labels = eval_pred\n",
    "    predictions = predictions.squeeze()\n",
    "    rmse = np.sqrt(mean_squared_error(labels, predictions))\n",
    "    mae = mean_absolute_error(labels, predictions)\n",
    "    return {\n",
    "        'rmse': rmse,\n",
    "        'mae': mae\n",
    "    }\n",
    "\n",
    "# Параметры обучения\n",
    "training_args = TrainingArguments(\n",
    "    output_dir='./results',\n",
    "    num_train_epochs=10,\n",
    "    per_device_train_batch_size=32,\n",
    "    per_device_eval_batch_size=32,\n",
    "    warmup_steps=500,\n",
    "    weight_decay=0.01,\n",
    "    logging_dir='./logs',\n",
    "    logging_steps=10,\n",
    "    evaluation_strategy=\"epoch\",\n",
    "    save_strategy=\"epoch\",\n",
    "    load_best_model_at_end=True,\n",
    "    metric_for_best_model='rmse',\n",
    "    greater_is_better=False\n",
    ")\n",
    "\n",
    "\n",
    "# Создание датасетов\n",
    "train_dataset = TextPairDataset(train_df, tokenizer)\n",
    "val_dataset = TextPairDataset(val_df, tokenizer)"
   ]
  },
  {
   "cell_type": "code",
   "execution_count": 8,
   "id": "d3062989-37b1-4bf9-9b0f-578d6be33128",
   "metadata": {},
   "outputs": [
    {
     "name": "stderr",
     "output_type": "stream",
     "text": [
      "C:\\Users\\q\\anaconda3\\envs\\pytorch_env\\Lib\\site-packages\\transformers\\models\\bert\\modeling_bert.py:439: UserWarning: 1Torch was not compiled with flash attention. (Triggered internally at C:\\actions-runner\\_work\\pytorch\\pytorch\\builder\\windows\\pytorch\\aten\\src\\ATen\\native\\transformers\\cuda\\sdp_utils.cpp:555.)\n",
      "  attn_output = torch.nn.functional.scaled_dot_product_attention(\n",
      "C:\\Users\\q\\anaconda3\\envs\\pytorch_env\\Lib\\site-packages\\torch\\nn\\parallel\\_functions.py:68: UserWarning: Was asked to gather along dimension 0, but all input tensors were scalars; will instead unsqueeze and return a vector.\n",
      "  warnings.warn('Was asked to gather along dimension 0, but all '\n",
      "C:\\Users\\q\\anaconda3\\envs\\pytorch_env\\Lib\\site-packages\\torch\\cuda\\nccl.py:16: UserWarning: PyTorch is not compiled with NCCL support\n",
      "  warnings.warn(\"PyTorch is not compiled with NCCL support\")\n"
     ]
    },
    {
     "data": {
      "text/html": [
       "\n",
       "    <div>\n",
       "      \n",
       "      <progress value='8436' max='14060' style='width:300px; height:20px; vertical-align: middle;'></progress>\n",
       "      [ 8436/14060 5:37:57 < 3:45:21, 0.42 it/s, Epoch 6/10]\n",
       "    </div>\n",
       "    <table border=\"1\" class=\"dataframe\">\n",
       "  <thead>\n",
       " <tr style=\"text-align: left;\">\n",
       "      <th>Epoch</th>\n",
       "      <th>Training Loss</th>\n",
       "      <th>Validation Loss</th>\n",
       "      <th>Rmse</th>\n",
       "      <th>Mae</th>\n",
       "    </tr>\n",
       "  </thead>\n",
       "  <tbody>\n",
       "    <tr>\n",
       "      <td>1</td>\n",
       "      <td>0.076100</td>\n",
       "      <td>0.089826</td>\n",
       "      <td>0.299709</td>\n",
       "      <td>0.185356</td>\n",
       "    </tr>\n",
       "    <tr>\n",
       "      <td>2</td>\n",
       "      <td>0.064400</td>\n",
       "      <td>0.070381</td>\n",
       "      <td>0.265294</td>\n",
       "      <td>0.200273</td>\n",
       "    </tr>\n",
       "    <tr>\n",
       "      <td>3</td>\n",
       "      <td>0.041100</td>\n",
       "      <td>0.059197</td>\n",
       "      <td>0.243304</td>\n",
       "      <td>0.169772</td>\n",
       "    </tr>\n",
       "    <tr>\n",
       "      <td>4</td>\n",
       "      <td>0.040700</td>\n",
       "      <td>0.052689</td>\n",
       "      <td>0.229542</td>\n",
       "      <td>0.161219</td>\n",
       "    </tr>\n",
       "    <tr>\n",
       "      <td>5</td>\n",
       "      <td>0.024700</td>\n",
       "      <td>0.070806</td>\n",
       "      <td>0.266094</td>\n",
       "      <td>0.203038</td>\n",
       "    </tr>\n",
       "    <tr>\n",
       "      <td>6</td>\n",
       "      <td>0.020000</td>\n",
       "      <td>0.068782</td>\n",
       "      <td>0.262264</td>\n",
       "      <td>0.210278</td>\n",
       "    </tr>\n",
       "  </tbody>\n",
       "</table><p>"
      ],
      "text/plain": [
       "<IPython.core.display.HTML object>"
      ]
     },
     "metadata": {},
     "output_type": "display_data"
    },
    {
     "name": "stderr",
     "output_type": "stream",
     "text": [
      "C:\\Users\\q\\anaconda3\\envs\\pytorch_env\\Lib\\site-packages\\torch\\nn\\parallel\\_functions.py:68: UserWarning: Was asked to gather along dimension 0, but all input tensors were scalars; will instead unsqueeze and return a vector.\n",
      "  warnings.warn('Was asked to gather along dimension 0, but all '\n",
      "C:\\Users\\q\\anaconda3\\envs\\pytorch_env\\Lib\\site-packages\\torch\\cuda\\nccl.py:16: UserWarning: PyTorch is not compiled with NCCL support\n",
      "  warnings.warn(\"PyTorch is not compiled with NCCL support\")\n",
      "C:\\Users\\q\\anaconda3\\envs\\pytorch_env\\Lib\\site-packages\\torch\\nn\\parallel\\_functions.py:68: UserWarning: Was asked to gather along dimension 0, but all input tensors were scalars; will instead unsqueeze and return a vector.\n",
      "  warnings.warn('Was asked to gather along dimension 0, but all '\n",
      "C:\\Users\\q\\anaconda3\\envs\\pytorch_env\\Lib\\site-packages\\torch\\cuda\\nccl.py:16: UserWarning: PyTorch is not compiled with NCCL support\n",
      "  warnings.warn(\"PyTorch is not compiled with NCCL support\")\n",
      "C:\\Users\\q\\anaconda3\\envs\\pytorch_env\\Lib\\site-packages\\torch\\nn\\parallel\\_functions.py:68: UserWarning: Was asked to gather along dimension 0, but all input tensors were scalars; will instead unsqueeze and return a vector.\n",
      "  warnings.warn('Was asked to gather along dimension 0, but all '\n",
      "C:\\Users\\q\\anaconda3\\envs\\pytorch_env\\Lib\\site-packages\\torch\\cuda\\nccl.py:16: UserWarning: PyTorch is not compiled with NCCL support\n",
      "  warnings.warn(\"PyTorch is not compiled with NCCL support\")\n",
      "C:\\Users\\q\\anaconda3\\envs\\pytorch_env\\Lib\\site-packages\\torch\\nn\\parallel\\_functions.py:68: UserWarning: Was asked to gather along dimension 0, but all input tensors were scalars; will instead unsqueeze and return a vector.\n",
      "  warnings.warn('Was asked to gather along dimension 0, but all '\n",
      "C:\\Users\\q\\anaconda3\\envs\\pytorch_env\\Lib\\site-packages\\torch\\cuda\\nccl.py:16: UserWarning: PyTorch is not compiled with NCCL support\n",
      "  warnings.warn(\"PyTorch is not compiled with NCCL support\")\n",
      "C:\\Users\\q\\anaconda3\\envs\\pytorch_env\\Lib\\site-packages\\torch\\nn\\parallel\\_functions.py:68: UserWarning: Was asked to gather along dimension 0, but all input tensors were scalars; will instead unsqueeze and return a vector.\n",
      "  warnings.warn('Was asked to gather along dimension 0, but all '\n",
      "C:\\Users\\q\\anaconda3\\envs\\pytorch_env\\Lib\\site-packages\\torch\\cuda\\nccl.py:16: UserWarning: PyTorch is not compiled with NCCL support\n",
      "  warnings.warn(\"PyTorch is not compiled with NCCL support\")\n"
     ]
    },
    {
     "data": {
      "text/plain": [
       "TrainOutput(global_step=8436, training_loss=0.14808191039858695, metrics={'train_runtime': 20280.3434, 'train_samples_per_second': 44.36, 'train_steps_per_second': 0.693, 'total_flos': 3.550546568449843e+16, 'train_loss': 0.14808191039858695, 'epoch': 6.0})"
      ]
     },
     "execution_count": 8,
     "metadata": {},
     "output_type": "execute_result"
    }
   ],
   "source": [
    "# Создание Trainer\n",
    "trainer = Trainer(\n",
    "    model=model,\n",
    "    args=training_args,\n",
    "    train_dataset=train_dataset,\n",
    "    eval_dataset=val_dataset,\n",
    "    compute_metrics=compute_metrics,\n",
    "    callbacks=[EarlyStoppingCallback(early_stopping_patience=2)]  # Ранняя остановка\n",
    ")\n",
    "\n",
    "# Обучение модели\n",
    "trainer.train()"
   ]
  },
  {
   "cell_type": "code",
   "execution_count": 9,
   "id": "e743c7a8-ac7f-420e-947d-bd1283f4d136",
   "metadata": {},
   "outputs": [
    {
     "name": "stderr",
     "output_type": "stream",
     "text": [
      "C:\\Users\\q\\anaconda3\\envs\\pytorch_env\\Lib\\site-packages\\torch\\nn\\parallel\\_functions.py:68: UserWarning: Was asked to gather along dimension 0, but all input tensors were scalars; will instead unsqueeze and return a vector.\n",
      "  warnings.warn('Was asked to gather along dimension 0, but all '\n"
     ]
    },
    {
     "data": {
      "text/html": [],
      "text/plain": [
       "<IPython.core.display.HTML object>"
      ]
     },
     "metadata": {},
     "output_type": "display_data"
    },
    {
     "name": "stdout",
     "output_type": "stream",
     "text": [
      "Метрики на валидационной выборке:\n",
      "eval_loss: 0.0527\n",
      "eval_rmse: 0.2295\n",
      "eval_mae: 0.1612\n",
      "eval_runtime: 171.7535\n",
      "eval_samples_per_second: 58.2000\n",
      "eval_steps_per_second: 0.9140\n"
     ]
    }
   ],
   "source": [
    "# Получение результатов оценки\n",
    "metrics = trainer.evaluate()\n",
    "\n",
    "print(\"Метрики на валидационной выборке:\")\n",
    "for key, value in metrics.items():\n",
    "    if key.startswith(\"eval_\"):\n",
    "        print(f\"{key}: {value:.4f}\")"
   ]
  },
  {
   "cell_type": "code",
   "execution_count": 10,
   "id": "0cb478e5-93db-4560-9894-886852590f43",
   "metadata": {},
   "outputs": [
    {
     "name": "stderr",
     "output_type": "stream",
     "text": [
      "C:\\Users\\q\\anaconda3\\envs\\pytorch_env\\Lib\\site-packages\\torch\\nn\\parallel\\_functions.py:68: UserWarning: Was asked to gather along dimension 0, but all input tensors were scalars; will instead unsqueeze and return a vector.\n",
      "  warnings.warn('Was asked to gather along dimension 0, but all '\n"
     ]
    },
    {
     "name": "stdout",
     "output_type": "stream",
     "text": [
      "                                               text1  \\\n",
      "0  отвечать работа партия внести свой вклад 1936 ...   \n",
      "1  сложный модель поддержка шифрование данные аут...   \n",
      "2  это время отплыть два лодка лодка сам генерал ...   \n",
      "3  первый юридически обязывать добровольный докум...   \n",
      "4  длина передний крыло 4552 мм размах крыло 1001...   \n",
      "\n",
      "                                               text2     score  pred_score  \n",
      "0  внести свой вклад урегулирование инцидент сиан...  4.889081    4.997534  \n",
      "1  сложный модель обладать функция шифрование аут...  4.865897    4.644709  \n",
      "2  два лодка отправиться плавание лодка генерал у...  4.316391    4.484791  \n",
      "3  решение 18551863 добровольный вхождение киргиз...  4.767547    5.026204  \n",
      "4  передний крыло иметь длина 4552 мм размах крыл...  4.839230    4.906640  \n"
     ]
    }
   ],
   "source": [
    "# Создание датасета для тестовых данных\n",
    "test_dataset = TextPairDataset(final_test_df, tokenizer)\n",
    "\n",
    "# Предсказание\n",
    "predictions = trainer.predict(test_dataset)\n",
    "\n",
    "# Извлечение предсказанных оценок\n",
    "pred_scores = predictions.predictions.squeeze()\n",
    "\n",
    "# Добавление предсказанных оценок в DataFrame\n",
    "final_test_df['pred_score'] = pred_scores\n",
    "\n",
    "# Просмотр первых строк\n",
    "print(final_test_df.head())\n",
    "\n",
    "# Сохранение результатов\n",
    "final_test_df.to_csv('../data/final_test_with_predictions.csv', index=False)"
   ]
  },
  {
   "cell_type": "code",
   "execution_count": 11,
   "id": "5dfd7a5a-8b15-49d9-ac97-243a0b72bf53",
   "metadata": {},
   "outputs": [
    {
     "data": {
      "text/plain": [
       "('../model/trained_model\\\\tokenizer_config.json',\n",
       " '../model/trained_model\\\\special_tokens_map.json',\n",
       " '../model/trained_model\\\\vocab.txt',\n",
       " '../model/trained_model\\\\added_tokens.json')"
      ]
     },
     "execution_count": 11,
     "metadata": {},
     "output_type": "execute_result"
    }
   ],
   "source": [
    "# Сохранение модели и токенизатора\n",
    "model.save_pretrained('../model/trained_model')\n",
    "tokenizer.save_pretrained('../model/trained_model')\n"
   ]
  },
  {
   "cell_type": "code",
   "execution_count": 12,
   "id": "4de29b66-8a83-4449-8ac8-1ea90c0cf295",
   "metadata": {},
   "outputs": [
    {
     "data": {
      "text/html": [
       "<div>\n",
       "<style scoped>\n",
       "    .dataframe tbody tr th:only-of-type {\n",
       "        vertical-align: middle;\n",
       "    }\n",
       "\n",
       "    .dataframe tbody tr th {\n",
       "        vertical-align: top;\n",
       "    }\n",
       "\n",
       "    .dataframe thead th {\n",
       "        text-align: right;\n",
       "    }\n",
       "</style>\n",
       "<table border=\"1\" class=\"dataframe\">\n",
       "  <thead>\n",
       "    <tr style=\"text-align: right;\">\n",
       "      <th></th>\n",
       "      <th>text1</th>\n",
       "      <th>text2</th>\n",
       "      <th>score</th>\n",
       "      <th>pred_score</th>\n",
       "    </tr>\n",
       "  </thead>\n",
       "  <tbody>\n",
       "    <tr>\n",
       "      <th>0</th>\n",
       "      <td>отвечать работа партия внести свой вклад 1936 ...</td>\n",
       "      <td>внести свой вклад урегулирование инцидент сиан...</td>\n",
       "      <td>4.889081</td>\n",
       "      <td>4.997534</td>\n",
       "    </tr>\n",
       "    <tr>\n",
       "      <th>1</th>\n",
       "      <td>сложный модель поддержка шифрование данные аут...</td>\n",
       "      <td>сложный модель обладать функция шифрование аут...</td>\n",
       "      <td>4.865897</td>\n",
       "      <td>4.644709</td>\n",
       "    </tr>\n",
       "    <tr>\n",
       "      <th>2</th>\n",
       "      <td>это время отплыть два лодка лодка сам генерал ...</td>\n",
       "      <td>два лодка отправиться плавание лодка генерал у...</td>\n",
       "      <td>4.316391</td>\n",
       "      <td>4.484791</td>\n",
       "    </tr>\n",
       "    <tr>\n",
       "      <th>3</th>\n",
       "      <td>первый юридически обязывать добровольный докум...</td>\n",
       "      <td>решение 18551863 добровольный вхождение киргиз...</td>\n",
       "      <td>4.767547</td>\n",
       "      <td>5.026204</td>\n",
       "    </tr>\n",
       "    <tr>\n",
       "      <th>4</th>\n",
       "      <td>длина передний крыло 4552 мм размах крыло 1001...</td>\n",
       "      <td>передний крыло иметь длина 4552 мм размах крыл...</td>\n",
       "      <td>4.839230</td>\n",
       "      <td>4.906640</td>\n",
       "    </tr>\n",
       "    <tr>\n",
       "      <th>...</th>\n",
       "      <td>...</td>\n",
       "      <td>...</td>\n",
       "      <td>...</td>\n",
       "      <td>...</td>\n",
       "    </tr>\n",
       "    <tr>\n",
       "      <th>19994</th>\n",
       "      <td>болтон предполагать конгрессмен демократ генри...</td>\n",
       "      <td>мнение генри уоксмэн болтон повлиять решение б...</td>\n",
       "      <td>4.524049</td>\n",
       "      <td>4.499201</td>\n",
       "    </tr>\n",
       "    <tr>\n",
       "      <th>19995</th>\n",
       "      <td>дом 11с1 тип здание спортивный сооружение этаж...</td>\n",
       "      <td>спортивный сооружение дом 11с1 находиться жило...</td>\n",
       "      <td>4.702792</td>\n",
       "      <td>4.649830</td>\n",
       "    </tr>\n",
       "    <tr>\n",
       "      <th>19996</th>\n",
       "      <td>пермь 1909 год заимка 1911 год пермьзаимка жел...</td>\n",
       "      <td>пермь это обычный название жилой район пермь ж...</td>\n",
       "      <td>4.401115</td>\n",
       "      <td>3.718822</td>\n",
       "    </tr>\n",
       "    <tr>\n",
       "      <th>19997</th>\n",
       "      <td>оконце жизнь оставаться президент публиковать ...</td>\n",
       "      <td>недолго пробыть пост президент компания выпуск...</td>\n",
       "      <td>3.778666</td>\n",
       "      <td>3.885373</td>\n",
       "    </tr>\n",
       "    <tr>\n",
       "      <th>19998</th>\n",
       "      <td>артур эдуардович сардарян 1987 баку азербайджа...</td>\n",
       "      <td>артур эдуардович сардарян убитый нацискинхед э...</td>\n",
       "      <td>4.053387</td>\n",
       "      <td>4.182176</td>\n",
       "    </tr>\n",
       "  </tbody>\n",
       "</table>\n",
       "<p>19999 rows × 4 columns</p>\n",
       "</div>"
      ],
      "text/plain": [
       "                                                   text1  \\\n",
       "0      отвечать работа партия внести свой вклад 1936 ...   \n",
       "1      сложный модель поддержка шифрование данные аут...   \n",
       "2      это время отплыть два лодка лодка сам генерал ...   \n",
       "3      первый юридически обязывать добровольный докум...   \n",
       "4      длина передний крыло 4552 мм размах крыло 1001...   \n",
       "...                                                  ...   \n",
       "19994  болтон предполагать конгрессмен демократ генри...   \n",
       "19995  дом 11с1 тип здание спортивный сооружение этаж...   \n",
       "19996  пермь 1909 год заимка 1911 год пермьзаимка жел...   \n",
       "19997  оконце жизнь оставаться президент публиковать ...   \n",
       "19998  артур эдуардович сардарян 1987 баку азербайджа...   \n",
       "\n",
       "                                                   text2     score  pred_score  \n",
       "0      внести свой вклад урегулирование инцидент сиан...  4.889081    4.997534  \n",
       "1      сложный модель обладать функция шифрование аут...  4.865897    4.644709  \n",
       "2      два лодка отправиться плавание лодка генерал у...  4.316391    4.484791  \n",
       "3      решение 18551863 добровольный вхождение киргиз...  4.767547    5.026204  \n",
       "4      передний крыло иметь длина 4552 мм размах крыл...  4.839230    4.906640  \n",
       "...                                                  ...       ...         ...  \n",
       "19994  мнение генри уоксмэн болтон повлиять решение б...  4.524049    4.499201  \n",
       "19995  спортивный сооружение дом 11с1 находиться жило...  4.702792    4.649830  \n",
       "19996  пермь это обычный название жилой район пермь ж...  4.401115    3.718822  \n",
       "19997  недолго пробыть пост президент компания выпуск...  3.778666    3.885373  \n",
       "19998  артур эдуардович сардарян убитый нацискинхед э...  4.053387    4.182176  \n",
       "\n",
       "[19999 rows x 4 columns]"
      ]
     },
     "execution_count": 12,
     "metadata": {},
     "output_type": "execute_result"
    }
   ],
   "source": [
    "final_test_df"
   ]
  },
  {
   "cell_type": "code",
   "execution_count": 14,
   "id": "befbafd6-1115-4d07-ab20-089f47378c60",
   "metadata": {},
   "outputs": [
    {
     "name": "stdout",
     "output_type": "stream",
     "text": [
      "Диапазон значений в столбце score: 0.7129944860935211 - 5.000000596046448\n",
      "Диапазон значений в столбце pred_score: 1.615647554397583 - 5.049973964691162\n"
     ]
    }
   ],
   "source": [
    "min_score = final_test_df['score'].min()\n",
    "max_score = final_test_df['score'].max()\n",
    "\n",
    "min_pred_score = final_test_df['pred_score'].min()\n",
    "max_pred_score = final_test_df['pred_score'].max()\n",
    "\n",
    "print(f\"Диапазон значений в столбце score: {min_score} - {max_score}\")\n",
    "print(f\"Диапазон значений в столбце pred_score: {min_pred_score} - {max_pred_score}\")\n"
   ]
  },
  {
   "cell_type": "code",
   "execution_count": null,
   "id": "a8a70229-9835-4b20-9549-b93f269e5051",
   "metadata": {},
   "outputs": [],
   "source": []
  }
 ],
 "metadata": {
  "kernelspec": {
   "display_name": "Python 3 (ipykernel)",
   "language": "python",
   "name": "python3"
  },
  "language_info": {
   "codemirror_mode": {
    "name": "ipython",
    "version": 3
   },
   "file_extension": ".py",
   "mimetype": "text/x-python",
   "name": "python",
   "nbconvert_exporter": "python",
   "pygments_lexer": "ipython3",
   "version": "3.12.3"
  }
 },
 "nbformat": 4,
 "nbformat_minor": 5
}
